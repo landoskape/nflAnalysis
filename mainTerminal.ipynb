{
 "cells": [
  {
   "cell_type": "code",
   "execution_count": 1,
   "id": "5b4410e6-46f6-4c94-9828-af4b7127e5d6",
   "metadata": {},
   "outputs": [],
   "source": [
    "# Code for analyzing NFL big data bowl data (probably with Celia!!!)"
   ]
  },
  {
   "cell_type": "code",
   "execution_count": 221,
   "id": "5272737b-757b-4857-92f8-473058d21288",
   "metadata": {},
   "outputs": [],
   "source": [
    "%reload_ext autoreload\n",
    "%autoreload 2\n",
    "\n",
    "import numpy as np\n",
    "import pandas as pd\n",
    "from pathlib import Path\n",
    "import matplotlib.pyplot as plt\n",
    "import nflDataFunctions as nfldf\n",
    "\n",
    "pd.set_option('display.max_rows', 50)"
   ]
  },
  {
   "cell_type": "code",
   "execution_count": 7,
   "id": "f1be1612-c168-4e88-9e6b-c967b2463f60",
   "metadata": {},
   "outputs": [],
   "source": [
    "games, players, plays, pffData = nfldf.loadData()\n",
    "weekData = nfldf.loadWeek()"
   ]
  },
  {
   "cell_type": "code",
   "execution_count": 88,
   "id": "6fb3961f-c322-4a5b-a4a1-088448d9ca47",
   "metadata": {},
   "outputs": [],
   "source": [
    "playWeek = nfldf.playWeek(games, plays)"
   ]
  },
  {
   "cell_type": "code",
   "execution_count": 218,
   "id": "f17af0a6-2c8f-4eda-b0ab-bfcb54048cc9",
   "metadata": {},
   "outputs": [],
   "source": [
    "# Code to identify target Receiver\n",
    "receiverName, descName, receiverDistance, receiverNextClosestDistance, qbNflId = \\\n",
    "nfldf.identifyTargetReceiver(weekData[0],plays,playWeek,weekId=1)"
   ]
  },
  {
   "cell_type": "code",
   "execution_count": 220,
   "id": "a0725b0b-f8ac-4c44-bac0-8a4cacc1ee2c",
   "metadata": {},
   "outputs": [],
   "source": [
    "# for rname,dname in zip(receiverName, descName): print(f\"Receiver: {rname}, description: {dname}\")"
   ]
  },
  {
   "cell_type": "code",
   "execution_count": 232,
   "id": "5eaa786e-0c8f-4821-94c7-1799b2ffe1a0",
   "metadata": {},
   "outputs": [
    {
     "data": {
      "image/png": "[encoded data removed]",
      "text/plain": [
       "<Figure size 432x288 with 1 Axes>"
      ]
     },
     "metadata": {
      "needs_background": "light"
     },
     "output_type": "display_data"
    }
   ],
   "source": [
    "plt.scatter(receiverDistance, receiverNextClosestDistance-receiverDistance)\n",
    "# plt.xlim(0, np.maximum(np.max(receiverDistance), np.max(receiverNextClosestDistance)))\n",
    "plt.ylim(0)#, np.maximum(np.max(receiverDistance), np.max(receiverNextClosestDistance)))\n",
    "plt.show()"
   ]
  },
  {
   "cell_type": "code",
   "execution_count": null,
   "id": "e3f7058c-39c3-4a8e-bb8b-11d1a997a9c6",
   "metadata": {},
   "outputs": [],
   "source": []
  },
  {
   "cell_type": "code",
   "execution_count": null,
   "id": "bf0c1f48-f655-487e-adb9-21d424dbe4da",
   "metadata": {},
   "outputs": [],
   "source": []
  },
  {
   "cell_type": "code",
   "execution_count": null,
   "id": "ad962243-0cc4-41f5-97a6-a66cd3c54a92",
   "metadata": {},
   "outputs": [],
   "source": []
  },
  {
   "cell_type": "code",
   "execution_count": null,
   "id": "46796dfa-0ec1-419c-9c08-36ea20ba8501",
   "metadata": {},
   "outputs": [],
   "source": []
  },
  {
   "cell_type": "code",
   "execution_count": null,
   "id": "7844d9ba-0a94-491f-90be-a4ae3febd6bf",
   "metadata": {},
   "outputs": [],
   "source": []
  },
  {
   "cell_type": "code",
   "execution_count": null,
   "id": "b1249347-ae11-4f85-bce0-31c2592fa5b4",
   "metadata": {},
   "outputs": [],
   "source": []
  },
  {
   "cell_type": "code",
   "execution_count": null,
   "id": "8506b855-377e-4f25-abfe-d1a8796ec0e4",
   "metadata": {},
   "outputs": [],
   "source": []
  },
  {
   "cell_type": "code",
   "execution_count": null,
   "id": "c0fe8b07-8c1b-4b3d-ad12-47c2ca8659bb",
   "metadata": {},
   "outputs": [],
   "source": []
  },
  {
   "cell_type": "code",
   "execution_count": null,
   "id": "4a5c9415-fe8a-418f-bd42-6341c61dfbb1",
   "metadata": {},
   "outputs": [],
   "source": []
  },
  {
   "cell_type": "code",
   "execution_count": null,
   "id": "79a52fa6-ea67-4303-abd8-de49ebde69ea",
   "metadata": {},
   "outputs": [],
   "source": []
  },
  {
   "cell_type": "code",
   "execution_count": null,
   "id": "536e5539-7433-41fb-82cf-b6434a68f26a",
   "metadata": {},
   "outputs": [],
   "source": []
  },
  {
   "cell_type": "code",
   "execution_count": null,
   "id": "1ae5a628-44f0-4a4e-86b4-a6f0fd87fc0a",
   "metadata": {},
   "outputs": [],
   "source": []
  },
  {
   "cell_type": "code",
   "execution_count": null,
   "id": "85eaae1d-9ad0-4f34-81ec-83f3f7ac6107",
   "metadata": {},
   "outputs": [],
   "source": []
  },
  {
   "cell_type": "code",
   "execution_count": null,
   "id": "55c3d89f-887f-4f22-8b86-8bc776ec9b9c",
   "metadata": {},
   "outputs": [],
   "source": []
  },
  {
   "cell_type": "code",
   "execution_count": null,
   "id": "f63ae953-0cb6-4cd8-8455-82f302174c88",
   "metadata": {},
   "outputs": [],
   "source": []
  },
  {
   "cell_type": "code",
   "execution_count": null,
   "id": "843e715e-c46d-4392-9ec1-a0d1a206758a",
   "metadata": {},
   "outputs": [],
   "source": []
  },
  {
   "cell_type": "code",
   "execution_count": null,
   "id": "fd3fbe2d-fb23-4cdb-b6cd-efa45c8a1da3",
   "metadata": {},
   "outputs": [],
   "source": []
  }
 ],
 "metadata": {
  "kernelspec": {
   "display_name": "Python 3",
   "language": "python",
   "name": "python3"
  },
  "language_info": {
   "codemirror_mode": {
    "name": "ipython",
    "version": 3
   },
   "file_extension": ".py",
   "mimetype": "text/x-python",
   "name": "python",
   "nbconvert_exporter": "python",
   "pygments_lexer": "ipython3",
   "version": "3.8.3"
  }
 },
 "nbformat": 4,
 "nbformat_minor": 5
}
