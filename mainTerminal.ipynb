{
 "cells": [
  {
   "cell_type": "code",
   "execution_count": 1,
   "id": "5b4410e6-46f6-4c94-9828-af4b7127e5d6",
   "metadata": {},
   "outputs": [],
   "source": [
    "# Code for analyzing NFL big data bowl data (probably with Celia!!!)"
   ]
  },
  {
   "cell_type": "code",
   "execution_count": 221,
   "id": "5272737b-757b-4857-92f8-473058d21288",
   "metadata": {},
   "outputs": [],
   "source": [
    "%reload_ext autoreload\n",
    "%autoreload 2\n",
    "\n",
    "import numpy as np\n",
    "import pandas as pd\n",
    "from pathlib import Path\n",
    "import matplotlib.pyplot as plt\n",
    "import nflDataFunctions as nfldf\n",
    "\n",
    "pd.set_option('display.max_rows', 50)"
   ]
  },
  {
   "cell_type": "code",
   "execution_count": 386,
   "id": "012fbf2a-7c55-4c15-9472-7ba4be1178d3",
   "metadata": {},
   "outputs": [],
   "source": [
    "# Check if the abbreviated names have a 1-1 correspondence with the full names\n",
    "# ----- it's not perfect because the abbreviated names are subject to variation and my string detection isn't perfect. most are good though..."
   ]
  },
  {
   "cell_type": "code",
   "execution_count": 7,
   "id": "f1be1612-c168-4e88-9e6b-c967b2463f60",
   "metadata": {},
   "outputs": [],
   "source": [
    "games, players, plays, pffData = nfldf.loadData()\n",
    "weekData = nfldf.loadWeek()"
   ]
  },
  {
   "cell_type": "code",
   "execution_count": 88,
   "id": "6fb3961f-c322-4a5b-a4a1-088448d9ca47",
   "metadata": {},
   "outputs": [],
   "source": [
    "playWeek = nfldf.playWeek(games, plays)"
   ]
  },
  {
   "cell_type": "code",
   "execution_count": 294,
   "id": "f17af0a6-2c8f-4eda-b0ab-bfcb54048cc9",
   "metadata": {},
   "outputs": [],
   "source": [
    "# Code to identify target Receiver\n",
    "itrOutputs = nfldf.identifyTargetReceiver(weekData[0],plays,playWeek,weekId=1)\n",
    "receiverName, descName, receiverDistance, receiverNextClosestDistance, qbNflId = itrOutputs"
   ]
  },
  {
   "cell_type": "code",
   "execution_count": 346,
   "id": "5cf578d9-8417-4f55-a63c-30e88cb5db38",
   "metadata": {},
   "outputs": [
    {
     "data": {
      "image/png": "[encoded data removed]",
      "text/plain": [
       "<Figure size 432x288 with 1 Axes>"
      ]
     },
     "metadata": {
      "needs_background": "light"
     },
     "output_type": "display_data"
    }
   ],
   "source": [
    "# Collect movement data for target receivers on each play\n",
    "rvcOutputs = nfldf.receiverVelocityCheck(weekData[0],plays,playWeek,weekId=1)\n",
    "dx, dy, speed, direction = rvcOutputs"
   ]
  },
  {
   "cell_type": "code",
   "execution_count": 387,
   "id": "d4488869-ddc2-4f22-b343-7848dc150318",
   "metadata": {},
   "outputs": [],
   "source": [
    "# next step-- measure relationship between location of ball being caught by receiver and expected location given speed and direction and previous location \n",
    "# I guess I should pick a certain timing? "
   ]
  },
  {
   "cell_type": "code",
   "execution_count": null,
   "id": "a74aefc0-e95f-44a6-8a67-ad67af0b94f5",
   "metadata": {},
   "outputs": [],
   "source": []
  },
  {
   "cell_type": "code",
   "execution_count": null,
   "id": "2f74799d-5949-4f26-8bc8-d1efa607f685",
   "metadata": {},
   "outputs": [],
   "source": []
  },
  {
   "cell_type": "code",
   "execution_count": null,
   "id": "7f1d078f-636b-4925-9318-58e145b2942f",
   "metadata": {},
   "outputs": [],
   "source": []
  },
  {
   "cell_type": "code",
   "execution_count": null,
   "id": "b4eafe68-0aaa-4ebb-836d-8050331c754a",
   "metadata": {},
   "outputs": [],
   "source": []
  },
  {
   "cell_type": "code",
   "execution_count": null,
   "id": "8b9f9e50-32d8-44e1-883c-3ff8ba5eeee6",
   "metadata": {},
   "outputs": [],
   "source": [
    "# Code to identify unique abbreviations in play descriptions of plays resulting in completions\n",
    "uniqAbbreviations = nfldf.checkAbbreviatedNames(plays)\n",
    "# for abb in uniqAbbreviations: print(abb)"
   ]
  },
  {
   "cell_type": "code",
   "execution_count": 301,
   "id": "0654312a-6864-40b3-b3c1-3be2d1b83213",
   "metadata": {},
   "outputs": [
    {
     "name": "stdout",
     "output_type": "stream",
     "text": [
      "idx: 31 Target receiver: Mohamed Sanu, descName: M.Sanu\n",
      "idx: 51 Target receiver: Jarvis Landry, descName: J.Landry\n",
      "idx: 93 Target receiver: T.Y. Hilton, descName: T.Hilton\n",
      "idx: 119 Target receiver: Tyler Boyd, descName: T.Boyd\n",
      "idx: 227 Target receiver: DeAndre Hopkins, descName: D.Hopkins\n",
      "idx: 252 Target receiver: Ryan Griffin, descName: D.Hopkins\n",
      "idx: 362 Target receiver: Larry Fitzgerald, descName: L.Fitzgerald\n",
      "idx: 390 Target receiver: David Johnson, descName: D.Johnson\n",
      "idx: 433 Target receiver: Taylor Gabriel, descName: T.Gabriel\n",
      "idx: 451 Target receiver: Anthony Miller, descName: A.Miller\n",
      "idx: 530 Target receiver: Todd Gurley, descName: T.Gurley\n"
     ]
    }
   ],
   "source": [
    "# Showing some plays where the two closest receivers were a similar distance from the football\n",
    "fsDiff = receiverNextClosestDistance-receiverDistance\n",
    "idxCloseSecond = np.where(fsDiff<2)[0]\n",
    "for idx in idxCloseSecond:\n",
    "    print(f\"idx: {idx} Target receiver: {receiverName[idx]}, descName: {descName[idx]}\")"
   ]
  },
  {
   "cell_type": "code",
   "execution_count": null,
   "id": "6d555507-7015-426f-929d-4eb2342767f8",
   "metadata": {},
   "outputs": [],
   "source": []
  },
  {
   "cell_type": "code",
   "execution_count": null,
   "id": "4a5c9415-fe8a-418f-bd42-6341c61dfbb1",
   "metadata": {},
   "outputs": [],
   "source": []
  },
  {
   "cell_type": "code",
   "execution_count": null,
   "id": "79a52fa6-ea67-4303-abd8-de49ebde69ea",
   "metadata": {},
   "outputs": [],
   "source": []
  },
  {
   "cell_type": "code",
   "execution_count": null,
   "id": "536e5539-7433-41fb-82cf-b6434a68f26a",
   "metadata": {},
   "outputs": [],
   "source": []
  },
  {
   "cell_type": "code",
   "execution_count": null,
   "id": "1ae5a628-44f0-4a4e-86b4-a6f0fd87fc0a",
   "metadata": {},
   "outputs": [],
   "source": []
  },
  {
   "cell_type": "code",
   "execution_count": null,
   "id": "85eaae1d-9ad0-4f34-81ec-83f3f7ac6107",
   "metadata": {},
   "outputs": [],
   "source": []
  },
  {
   "cell_type": "code",
   "execution_count": null,
   "id": "55c3d89f-887f-4f22-8b86-8bc776ec9b9c",
   "metadata": {},
   "outputs": [],
   "source": []
  },
  {
   "cell_type": "code",
   "execution_count": null,
   "id": "f63ae953-0cb6-4cd8-8455-82f302174c88",
   "metadata": {},
   "outputs": [],
   "source": []
  },
  {
   "cell_type": "code",
   "execution_count": null,
   "id": "843e715e-c46d-4392-9ec1-a0d1a206758a",
   "metadata": {},
   "outputs": [],
   "source": []
  },
  {
   "cell_type": "code",
   "execution_count": null,
   "id": "fd3fbe2d-fb23-4cdb-b6cd-efa45c8a1da3",
   "metadata": {},
   "outputs": [],
   "source": []
  }
 ],
 "metadata": {
  "kernelspec": {
   "display_name": "Python 3",
   "language": "python",
   "name": "python3"
  },
  "language_info": {
   "codemirror_mode": {
    "name": "ipython",
    "version": 3
   },
   "file_extension": ".py",
   "mimetype": "text/x-python",
   "name": "python",
   "nbconvert_exporter": "python",
   "pygments_lexer": "ipython3",
   "version": "3.8.3"
  }
 },
 "nbformat": 4,
 "nbformat_minor": 5
}
