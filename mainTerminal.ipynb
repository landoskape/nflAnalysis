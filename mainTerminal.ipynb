{
 "cells": [
  {
   "cell_type": "code",
   "execution_count": 1,
   "id": "5b4410e6-46f6-4c94-9828-af4b7127e5d6",
   "metadata": {},
   "outputs": [],
   "source": [
    "# Code for analyzing NFL big data bowl data (probably with Celia!!!)"
   ]
  },
  {
   "cell_type": "code",
   "execution_count": 221,
   "id": "5272737b-757b-4857-92f8-473058d21288",
   "metadata": {},
   "outputs": [],
   "source": [
    "%reload_ext autoreload\n",
    "%autoreload 2\n",
    "\n",
    "import numpy as np\n",
    "import pandas as pd\n",
    "from pathlib import Path\n",
    "import matplotlib.pyplot as plt\n",
    "import nflDataFunctions as nfldf\n",
    "\n",
    "pd.set_option('display.max_rows', 50)"
   ]
  },
  {
   "cell_type": "code",
   "execution_count": 297,
   "id": "012fbf2a-7c55-4c15-9472-7ba4be1178d3",
   "metadata": {},
   "outputs": [],
   "source": [
    "# Check if I got it right on the plays where the second closest receiver is almost the same distance as the closest\n",
    "# ----- almost always, but not quite. In the one play I found where it isn't right, there's a pass arrived and a passCaught...\n",
    "# ----- ----- leading into my next comment...\n",
    "\n",
    "# Check what event string was used on those plays...\n",
    "# ----- using pass_arrived with priority is a bit worse...\n",
    "\n",
    "# Check if the abbreviated names have a 1-1 correspondence with the full names\n",
    "# ----- it's not perfect because the abbreviated names are subject to variation and my string detection isn't perfect. most are good though..."
   ]
  },
  {
   "cell_type": "code",
   "execution_count": 7,
   "id": "f1be1612-c168-4e88-9e6b-c967b2463f60",
   "metadata": {},
   "outputs": [],
   "source": [
    "games, players, plays, pffData = nfldf.loadData()\n",
    "weekData = nfldf.loadWeek()"
   ]
  },
  {
   "cell_type": "code",
   "execution_count": 88,
   "id": "6fb3961f-c322-4a5b-a4a1-088448d9ca47",
   "metadata": {},
   "outputs": [],
   "source": [
    "playWeek = nfldf.playWeek(games, plays)"
   ]
  },
  {
   "cell_type": "code",
   "execution_count": 294,
   "id": "f17af0a6-2c8f-4eda-b0ab-bfcb54048cc9",
   "metadata": {},
   "outputs": [],
   "source": [
    "# Code to identify target Receiver\n",
    "itrOutputs = nfldf.identifyTargetReceiver(weekData[0],plays,playWeek,weekId=1)\n",
    "receiverName, descName, receiverDistance, receiverNextClosestDistance, qbNflId = itrOutputs"
   ]
  },
  {
   "cell_type": "code",
   "execution_count": 306,
   "id": "5cf578d9-8417-4f55-a63c-30e88cb5db38",
   "metadata": {},
   "outputs": [],
   "source": [
    "# Collect movement data for target receivers on each play\n",
    "rvcOutputs = nfldf.receiverVelocityCheck(weekData[0],plays,playWeek,weekId=1)\n",
    "receiverOnPlay, receiverMovement, gameId, playId, receiverName = rvcOutputs"
   ]
  },
  {
   "cell_type": "code",
   "execution_count": 312,
   "id": "7905c839-82bc-4b22-bd69-01a0a2eef6cb",
   "metadata": {},
   "outputs": [
    {
     "data": {
      "text/plain": [
       "numpy.int64"
      ]
     },
     "execution_count": 312,
     "metadata": {},
     "output_type": "execute_result"
    }
   ],
   "source": [
    "type(np.arange(3)[0])"
   ]
  },
  {
   "cell_type": "code",
   "execution_count": null,
   "id": "8b9f9e50-32d8-44e1-883c-3ff8ba5eeee6",
   "metadata": {},
   "outputs": [],
   "source": [
    "# Code to identify unique abbreviations in play descriptions of plays resulting in completions\n",
    "uniqAbbreviations = nfldf.checkAbbreviatedNames(plays)\n",
    "# for abb in uniqAbbreviations: print(abb)"
   ]
  },
  {
   "cell_type": "code",
   "execution_count": 301,
   "id": "0654312a-6864-40b3-b3c1-3be2d1b83213",
   "metadata": {},
   "outputs": [
    {
     "name": "stdout",
     "output_type": "stream",
     "text": [
      "idx: 31 Target receiver: Mohamed Sanu, descName: M.Sanu\n",
      "idx: 51 Target receiver: Jarvis Landry, descName: J.Landry\n",
      "idx: 93 Target receiver: T.Y. Hilton, descName: T.Hilton\n",
      "idx: 119 Target receiver: Tyler Boyd, descName: T.Boyd\n",
      "idx: 227 Target receiver: DeAndre Hopkins, descName: D.Hopkins\n",
      "idx: 252 Target receiver: Ryan Griffin, descName: D.Hopkins\n",
      "idx: 362 Target receiver: Larry Fitzgerald, descName: L.Fitzgerald\n",
      "idx: 390 Target receiver: David Johnson, descName: D.Johnson\n",
      "idx: 433 Target receiver: Taylor Gabriel, descName: T.Gabriel\n",
      "idx: 451 Target receiver: Anthony Miller, descName: A.Miller\n",
      "idx: 530 Target receiver: Todd Gurley, descName: T.Gurley\n"
     ]
    }
   ],
   "source": [
    "# Showing some plays where the two closest receivers were a similar distance from the football\n",
    "fsDiff = receiverNextClosestDistance-receiverDistance\n",
    "idxCloseSecond = np.where(fsDiff<2)[0]\n",
    "for idx in idxCloseSecond:\n",
    "    print(f\"idx: {idx} Target receiver: {receiverName[idx]}, descName: {descName[idx]}\")"
   ]
  },
  {
   "cell_type": "code",
   "execution_count": null,
   "id": "6d555507-7015-426f-929d-4eb2342767f8",
   "metadata": {},
   "outputs": [],
   "source": []
  },
  {
   "cell_type": "code",
   "execution_count": 304,
   "id": "c0fe8b07-8c1b-4b3d-ad12-47c2ca8659bb",
   "metadata": {},
   "outputs": [
    {
     "data": {
      "text/plain": [
       "Index(['time', 'x', 'y', 's', 'a', 'dis', 'o', 'dir', 'event', 'nflId',\n",
       "       'displayName', 'jerseyNumber', 'position', 'frameId', 'team', 'gameId',\n",
       "       'playId', 'playDirection', 'route'],\n",
       "      dtype='object')"
      ]
     },
     "execution_count": 304,
     "metadata": {},
     "output_type": "execute_result"
    }
   ],
   "source": [
    "weekData[0].columns"
   ]
  },
  {
   "cell_type": "code",
   "execution_count": null,
   "id": "4a5c9415-fe8a-418f-bd42-6341c61dfbb1",
   "metadata": {},
   "outputs": [],
   "source": []
  },
  {
   "cell_type": "code",
   "execution_count": null,
   "id": "79a52fa6-ea67-4303-abd8-de49ebde69ea",
   "metadata": {},
   "outputs": [],
   "source": []
  },
  {
   "cell_type": "code",
   "execution_count": null,
   "id": "536e5539-7433-41fb-82cf-b6434a68f26a",
   "metadata": {},
   "outputs": [],
   "source": []
  },
  {
   "cell_type": "code",
   "execution_count": null,
   "id": "1ae5a628-44f0-4a4e-86b4-a6f0fd87fc0a",
   "metadata": {},
   "outputs": [],
   "source": []
  },
  {
   "cell_type": "code",
   "execution_count": null,
   "id": "85eaae1d-9ad0-4f34-81ec-83f3f7ac6107",
   "metadata": {},
   "outputs": [],
   "source": []
  },
  {
   "cell_type": "code",
   "execution_count": null,
   "id": "55c3d89f-887f-4f22-8b86-8bc776ec9b9c",
   "metadata": {},
   "outputs": [],
   "source": []
  },
  {
   "cell_type": "code",
   "execution_count": null,
   "id": "f63ae953-0cb6-4cd8-8455-82f302174c88",
   "metadata": {},
   "outputs": [],
   "source": []
  },
  {
   "cell_type": "code",
   "execution_count": null,
   "id": "843e715e-c46d-4392-9ec1-a0d1a206758a",
   "metadata": {},
   "outputs": [],
   "source": []
  },
  {
   "cell_type": "code",
   "execution_count": null,
   "id": "fd3fbe2d-fb23-4cdb-b6cd-efa45c8a1da3",
   "metadata": {},
   "outputs": [],
   "source": []
  }
 ],
 "metadata": {
  "kernelspec": {
   "display_name": "Python 3",
   "language": "python",
   "name": "python3"
  },
  "language_info": {
   "codemirror_mode": {
    "name": "ipython",
    "version": 3
   },
   "file_extension": ".py",
   "mimetype": "text/x-python",
   "name": "python",
   "nbconvert_exporter": "python",
   "pygments_lexer": "ipython3",
   "version": "3.8.3"
  }
 },
 "nbformat": 4,
 "nbformat_minor": 5
}
